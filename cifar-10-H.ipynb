{
 "cells": [
  {
   "cell_type": "code",
   "execution_count": 1,
   "id": "7509b3f7",
   "metadata": {},
   "outputs": [
    {
     "name": "stdout",
     "output_type": "stream",
     "text": [
      "Sat Feb 26 10:01:29 2022       \n",
      "+-----------------------------------------------------------------------------+\n",
      "| NVIDIA-SMI 510.47.03    Driver Version: 510.47.03    CUDA Version: 11.6     |\n",
      "|-------------------------------+----------------------+----------------------+\n",
      "| GPU  Name        Persistence-M| Bus-Id        Disp.A | Volatile Uncorr. ECC |\n",
      "| Fan  Temp  Perf  Pwr:Usage/Cap|         Memory-Usage | GPU-Util  Compute M. |\n",
      "|                               |                      |               MIG M. |\n",
      "|===============================+======================+======================|\n",
      "|   0  Tesla P40           On   | 00000000:3B:00.0 Off |                    0 |\n",
      "| N/A   48C    P0   157W / 250W |   3407MiB / 23040MiB |      2%      Default |\n",
      "|                               |                      |                  N/A |\n",
      "+-------------------------------+----------------------+----------------------+\n",
      "|   1  Tesla P40           On   | 00000000:AF:00.0 Off |                    0 |\n",
      "| N/A   56C    P0   231W / 250W |   3407MiB / 23040MiB |     98%      Default |\n",
      "|                               |                      |                  N/A |\n",
      "+-------------------------------+----------------------+----------------------+\n",
      "                                                                               \n",
      "+-----------------------------------------------------------------------------+\n",
      "| Processes:                                                                  |\n",
      "|  GPU   GI   CI        PID   Type   Process name                  GPU Memory |\n",
      "|        ID   ID                                                   Usage      |\n",
      "|=============================================================================|\n",
      "|    0   N/A  N/A     31172      C   python                           3405MiB |\n",
      "|    1   N/A  N/A     34122      C   python                           3405MiB |\n",
      "+-----------------------------------------------------------------------------+\n"
     ]
    }
   ],
   "source": [
    "!nvidia-smi"
   ]
  },
  {
   "cell_type": "code",
   "execution_count": 2,
   "id": "e93e3009",
   "metadata": {},
   "outputs": [
    {
     "name": "stdout",
     "output_type": "stream",
     "text": [
      "/data/user-data/sa25729/cifar-10h\n"
     ]
    }
   ],
   "source": [
    "#!git clone https://github.com/jcpeterson/cifar-10h\n",
    "%cd cifar-10h"
   ]
  },
  {
   "cell_type": "code",
   "execution_count": 3,
   "id": "409ba526",
   "metadata": {},
   "outputs": [],
   "source": [
    "import torch\n",
    "import torch.nn as nn\n",
    "import torch.optim as optim\n",
    "import torch.nn.functional as F\n",
    "import torchvision\n",
    "from torchvision import models\n",
    "import torchvision.transforms as transforms\n",
    "import os\n",
    "import argparse\n",
    "import copy\n",
    "import random\n",
    "import numpy as np\n",
    "device = 'cuda' if torch.cuda.is_available() else 'cpu'\n",
    "def seed_everything(seed=12):\n",
    "    random.seed(seed)\n",
    "    torch.manual_seed(seed)\n",
    "    torch.cuda.manual_seed_all(seed)\n",
    "    np.random.seed(seed)\n",
    "    os.environ['PYTHONHASHSEED'] = str(seed)\n",
    "    torch.backends.cudnn.deterministic = True\n",
    "    torch.backends.cudnn.benchmark = False\n",
    "parser = argparse.ArgumentParser(description='CIFAR-10H Training')\n",
    "parser.add_argument('--lr', default=0.1, type=float, help='learning rate')\n",
    "parser.add_argument('--lr_schedule', default=0, type=int, help='lr scheduler')\n",
    "parser.add_argument('--batch_size', default=1024, type=int, help='batch size')\n",
    "parser.add_argument('--test_batch_size', default=2048, type=int, help='batch size')\n",
    "parser.add_argument('--num_epoch', default=100, type=int, help='epoch number')\n",
    "parser.add_argument('--num_classes', type=int, default=10, help='number classes')\n",
    "args = parser.parse_args(args=[])"
   ]
  },
  {
   "cell_type": "code",
   "execution_count": 4,
   "id": "585d2b3b",
   "metadata": {},
   "outputs": [],
   "source": [
    "def train(model, trainloader, criterion, optimizer):\n",
    "    model.train()\n",
    "    for batch_idx, (inputs, targets, ad) in enumerate(trainloader):\n",
    "        inputs, targets = inputs.to(device), targets.to(device)\n",
    "        optimizer.zero_grad()\n",
    "        outputs = model(inputs)\n",
    "        loss = criterion(outputs, targets)\n",
    "        loss.backward()\n",
    "        optimizer.step()\n",
    "\n",
    "def test(model, testloader):\n",
    "    model.eval()\n",
    "    correct = 0\n",
    "    total = 0\n",
    "    with torch.no_grad():\n",
    "        for batch_idx, (inputs, targets) in enumerate(testloader):\n",
    "            inputs, targets = inputs.to(device), targets.to(device)\n",
    "            outputs = model(inputs)\n",
    "            _, predicted = outputs.max(1)\n",
    "            total += targets.size(0)\n",
    "            correct += predicted.eq(targets).sum().item()\n",
    "    return correct / total"
   ]
  },
  {
   "cell_type": "code",
   "execution_count": 5,
   "id": "a9b4048d",
   "metadata": {},
   "outputs": [],
   "source": [
    "from PIL import Image\n",
    "import numpy as np\n",
    "import torchvision\n",
    "\n",
    "class CIFAR10H(torchvision.datasets.CIFAR10):\n",
    "\n",
    "    def __init__(self, root,  rand_number=0, train=False, transform=None, target_transform=None,\n",
    "                 download=False):\n",
    "        super(CIFAR10H, self).__init__(root, train, transform, target_transform, download) \n",
    "        self.transform = transform\n",
    "        self.target_transform = target_transform\n",
    "        self.ad = np.load(os.path.join(root,'cifar10h-probs.npy'))\n",
    "\n",
    "    def __getitem__(self, index: int):\n",
    "        img, target = self.data[index], self.targets[index]\n",
    "        img = Image.fromarray(img)\n",
    "        ad = self.ad[index]\n",
    "        if self.transform is not None:\n",
    "            img = self.transform(img)\n",
    "        if self.target_transform is not None:\n",
    "            target = self.target_transform(target)\n",
    "        return img, target, ad\n"
   ]
  },
  {
   "cell_type": "code",
   "execution_count": 6,
   "id": "cce9466e",
   "metadata": {},
   "outputs": [
    {
     "name": "stdout",
     "output_type": "stream",
     "text": [
      "Files already downloaded and verified\n",
      "Files already downloaded and verified\n",
      "train samples: 10000 test samples: 50000\n",
      "epoch: 0  acc: 0.3792  best epoch: 0  best acc: 0.3792\n",
      "epoch: 1  acc: 0.4589  best epoch: 1  best acc: 0.4589\n",
      "epoch: 2  acc: 0.6426  best epoch: 2  best acc: 0.6426\n",
      "epoch: 3  acc: 0.5800  best epoch: 2  best acc: 0.6426\n",
      "epoch: 4  acc: 0.6257  best epoch: 2  best acc: 0.6426\n",
      "epoch: 5  acc: 0.6425  best epoch: 2  best acc: 0.6426\n",
      "epoch: 6  acc: 0.4648  best epoch: 2  best acc: 0.6426\n",
      "epoch: 7  acc: 0.6201  best epoch: 2  best acc: 0.6426\n",
      "epoch: 8  acc: 0.6253  best epoch: 2  best acc: 0.6426\n",
      "epoch: 9  acc: 0.6647  best epoch: 9  best acc: 0.6647\n",
      "epoch: 10  acc: 0.7256  best epoch: 10  best acc: 0.7256\n",
      "epoch: 11  acc: 0.7454  best epoch: 11  best acc: 0.7454\n",
      "epoch: 12  acc: 0.7196  best epoch: 11  best acc: 0.7454\n",
      "epoch: 13  acc: 0.6956  best epoch: 11  best acc: 0.7454\n",
      "epoch: 14  acc: 0.7362  best epoch: 11  best acc: 0.7454\n",
      "epoch: 15  acc: 0.7462  best epoch: 15  best acc: 0.7462\n",
      "epoch: 16  acc: 0.7343  best epoch: 15  best acc: 0.7462\n",
      "epoch: 17  acc: 0.7401  best epoch: 15  best acc: 0.7462\n",
      "epoch: 18  acc: 0.7578  best epoch: 18  best acc: 0.7578\n",
      "epoch: 19  acc: 0.7384  best epoch: 18  best acc: 0.7578\n",
      "epoch: 20  acc: 0.7493  best epoch: 18  best acc: 0.7578\n",
      "epoch: 21  acc: 0.7595  best epoch: 21  best acc: 0.7595\n",
      "epoch: 22  acc: 0.7362  best epoch: 21  best acc: 0.7595\n",
      "epoch: 23  acc: 0.7564  best epoch: 21  best acc: 0.7595\n",
      "epoch: 24  acc: 0.7499  best epoch: 21  best acc: 0.7595\n",
      "epoch: 25  acc: 0.7579  best epoch: 21  best acc: 0.7595\n",
      "epoch: 26  acc: 0.7564  best epoch: 21  best acc: 0.7595\n",
      "epoch: 27  acc: 0.7530  best epoch: 21  best acc: 0.7595\n",
      "epoch: 28  acc: 0.7613  best epoch: 28  best acc: 0.7613\n",
      "epoch: 29  acc: 0.7520  best epoch: 28  best acc: 0.7613\n",
      "epoch: 30  acc: 0.7811  best epoch: 30  best acc: 0.7811\n",
      "epoch: 31  acc: 0.7852  best epoch: 31  best acc: 0.7852\n",
      "epoch: 32  acc: 0.7891  best epoch: 32  best acc: 0.7891\n",
      "epoch: 33  acc: 0.7907  best epoch: 33  best acc: 0.7907\n",
      "epoch: 34  acc: 0.7922  best epoch: 34  best acc: 0.7922\n",
      "epoch: 35  acc: 0.7939  best epoch: 35  best acc: 0.7939\n",
      "epoch: 36  acc: 0.7934  best epoch: 35  best acc: 0.7939\n",
      "epoch: 37  acc: 0.7926  best epoch: 35  best acc: 0.7939\n",
      "epoch: 38  acc: 0.7928  best epoch: 35  best acc: 0.7939\n",
      "epoch: 39  acc: 0.7936  best epoch: 35  best acc: 0.7939\n",
      "epoch: 40  acc: 0.7936  best epoch: 35  best acc: 0.7939\n",
      "epoch: 41  acc: 0.7943  best epoch: 41  best acc: 0.7943\n",
      "epoch: 42  acc: 0.7937  best epoch: 41  best acc: 0.7943\n",
      "epoch: 43  acc: 0.7937  best epoch: 41  best acc: 0.7943\n",
      "epoch: 44  acc: 0.7926  best epoch: 41  best acc: 0.7943\n",
      "epoch: 45  acc: 0.7928  best epoch: 41  best acc: 0.7943\n",
      "epoch: 46  acc: 0.7936  best epoch: 41  best acc: 0.7943\n",
      "epoch: 47  acc: 0.7936  best epoch: 41  best acc: 0.7943\n",
      "epoch: 48  acc: 0.7945  best epoch: 48  best acc: 0.7945\n",
      "epoch: 49  acc: 0.7929  best epoch: 48  best acc: 0.7945\n",
      "epoch: 50  acc: 0.7923  best epoch: 48  best acc: 0.7945\n",
      "epoch: 51  acc: 0.7937  best epoch: 48  best acc: 0.7945\n",
      "epoch: 52  acc: 0.7947  best epoch: 52  best acc: 0.7947\n",
      "epoch: 53  acc: 0.7949  best epoch: 53  best acc: 0.7949\n",
      "epoch: 54  acc: 0.7939  best epoch: 53  best acc: 0.7949\n",
      "epoch: 55  acc: 0.7945  best epoch: 53  best acc: 0.7949\n",
      "epoch: 56  acc: 0.7940  best epoch: 53  best acc: 0.7949\n",
      "epoch: 57  acc: 0.7946  best epoch: 53  best acc: 0.7949\n",
      "epoch: 58  acc: 0.7944  best epoch: 53  best acc: 0.7949\n",
      "epoch: 59  acc: 0.7945  best epoch: 53  best acc: 0.7949\n",
      "epoch: 60  acc: 0.7946  best epoch: 53  best acc: 0.7949\n",
      "epoch: 61  acc: 0.7943  best epoch: 53  best acc: 0.7949\n",
      "epoch: 62  acc: 0.7946  best epoch: 53  best acc: 0.7949\n",
      "epoch: 63  acc: 0.7942  best epoch: 53  best acc: 0.7949\n",
      "epoch: 64  acc: 0.7941  best epoch: 53  best acc: 0.7949\n",
      "epoch: 65  acc: 0.7944  best epoch: 53  best acc: 0.7949\n",
      "epoch: 66  acc: 0.7943  best epoch: 53  best acc: 0.7949\n",
      "epoch: 67  acc: 0.7939  best epoch: 53  best acc: 0.7949\n",
      "epoch: 68  acc: 0.7942  best epoch: 53  best acc: 0.7949\n",
      "epoch: 69  acc: 0.7943  best epoch: 53  best acc: 0.7949\n",
      "epoch: 70  acc: 0.7940  best epoch: 53  best acc: 0.7949\n",
      "epoch: 71  acc: 0.7939  best epoch: 53  best acc: 0.7949\n",
      "epoch: 72  acc: 0.7940  best epoch: 53  best acc: 0.7949\n",
      "epoch: 73  acc: 0.7942  best epoch: 53  best acc: 0.7949\n",
      "epoch: 74  acc: 0.7944  best epoch: 53  best acc: 0.7949\n",
      "epoch: 75  acc: 0.7944  best epoch: 53  best acc: 0.7949\n",
      "epoch: 76  acc: 0.7944  best epoch: 53  best acc: 0.7949\n",
      "epoch: 77  acc: 0.7944  best epoch: 53  best acc: 0.7949\n",
      "epoch: 78  acc: 0.7944  best epoch: 53  best acc: 0.7949\n",
      "epoch: 79  acc: 0.7941  best epoch: 53  best acc: 0.7949\n",
      "epoch: 80  acc: 0.7943  best epoch: 53  best acc: 0.7949\n",
      "epoch: 81  acc: 0.7940  best epoch: 53  best acc: 0.7949\n",
      "epoch: 82  acc: 0.7941  best epoch: 53  best acc: 0.7949\n",
      "epoch: 83  acc: 0.7939  best epoch: 53  best acc: 0.7949\n",
      "epoch: 84  acc: 0.7940  best epoch: 53  best acc: 0.7949\n",
      "epoch: 85  acc: 0.7943  best epoch: 53  best acc: 0.7949\n",
      "epoch: 86  acc: 0.7941  best epoch: 53  best acc: 0.7949\n",
      "epoch: 87  acc: 0.7943  best epoch: 53  best acc: 0.7949\n",
      "epoch: 88  acc: 0.7938  best epoch: 53  best acc: 0.7949\n",
      "epoch: 89  acc: 0.7937  best epoch: 53  best acc: 0.7949\n",
      "epoch: 90  acc: 0.7940  best epoch: 53  best acc: 0.7949\n",
      "epoch: 91  acc: 0.7939  best epoch: 53  best acc: 0.7949\n",
      "epoch: 92  acc: 0.7941  best epoch: 53  best acc: 0.7949\n",
      "epoch: 93  acc: 0.7941  best epoch: 53  best acc: 0.7949\n",
      "epoch: 94  acc: 0.7940  best epoch: 53  best acc: 0.7949\n",
      "epoch: 95  acc: 0.7938  best epoch: 53  best acc: 0.7949\n",
      "epoch: 96  acc: 0.7941  best epoch: 53  best acc: 0.7949\n",
      "epoch: 97  acc: 0.7942  best epoch: 53  best acc: 0.7949\n",
      "epoch: 98  acc: 0.7939  best epoch: 53  best acc: 0.7949\n",
      "epoch: 99  acc: 0.7940  best epoch: 53  best acc: 0.7949\n"
     ]
    }
   ],
   "source": [
    "seed_everything()\n",
    "mean_cifar10, std_cifar10 = (0.5071, 0.4866, 0.4409), (0.2009, 0.1984, 0.2023)\n",
    "transform_train = transforms.Compose([transforms.RandomCrop(32, padding=4),\n",
    "            transforms.RandomHorizontalFlip(), transforms.ToTensor(),\n",
    "            transforms.Normalize(mean_cifar10, std_cifar10), ])\n",
    "transform_test = transforms.Compose([transforms.ToTensor(),\n",
    "    transforms.Normalize(mean_cifar10, std_cifar10),])\n",
    "\n",
    "train_dataset = CIFAR10H(root='./data', train=False, download=True, transform=transform_train)\n",
    "test_dataset = torchvision.datasets.CIFAR10(root='./data', train=True, download=True, transform=transform_test)\n",
    "print('train samples:',len(train_dataset), 'test samples:',len(test_dataset))\n",
    "train_loader = torch.utils.data.DataLoader(train_dataset, batch_size=args.batch_size, shuffle=True, num_workers=2)\n",
    "test_loader = torch.utils.data.DataLoader(test_dataset, batch_size=args.test_batch_size, shuffle=False, num_workers=2)\n",
    "\n",
    "model = models.resnet34(pretrained=True).to(device)\n",
    "model.fc = nn.Linear(model.fc.in_features, args.num_classes)\n",
    "model = model.to(device)\n",
    "\n",
    "optimizer = optim.SGD(model.parameters(), lr=args.lr, momentum=0.9, nesterov=False, weight_decay=0.0001)\n",
    "criterion = nn.CrossEntropyLoss()\n",
    "\n",
    "best_epoch, best_acc = 0.0, 0\n",
    "for epoch in range(args.num_epoch):\n",
    "    if epoch is not 0 and epoch < 100 and epoch % 30 == 0:\n",
    "        for param in optimizer.param_groups:\n",
    "            param['lr'] = param['lr'] / 10\n",
    "    train(model, train_loader, criterion, optimizer)\n",
    "    accuracy = test(model, test_loader)\n",
    "    if accuracy > best_acc:\n",
    "        patience = 0\n",
    "        best_acc = accuracy\n",
    "        best_epoch = epoch\n",
    "        best_model = copy.deepcopy(model)\n",
    "        torch.save(best_model.state_dict(), 'best_model_cifar10h1.pth.tar')\n",
    "    print('epoch: {}  acc: {:.4f}  best epoch: {}  best acc: {:.4f}'.format(\n",
    "            epoch, accuracy, best_epoch, best_acc, optimizer.param_groups[0]['lr']))\n"
   ]
  },
  {
   "cell_type": "markdown",
   "id": "2d2dc060",
   "metadata": {},
   "source": [
    "GET Conf_score"
   ]
  },
  {
   "cell_type": "markdown",
   "id": "a9fe9e1e",
   "metadata": {},
   "source": [
    "Conf_score from Trainset"
   ]
  },
  {
   "cell_type": "code",
   "execution_count": 8,
   "id": "ac1614ae",
   "metadata": {},
   "outputs": [
    {
     "data": {
      "text/plain": [
       "tensor([0.9894, 0.9884, 0.9755, 0.9802, 0.9793, 0.9772, 0.9877, 0.9875, 0.9891,\n",
       "        0.9818], device='cuda:0')"
      ]
     },
     "execution_count": 8,
     "metadata": {},
     "output_type": "execute_result"
    }
   ],
   "source": [
    "model.load_state_dict(torch.load('best_model_cifar10h1.pth.tar'))\n",
    "def get_conf_freq (model, dataloader):\n",
    "    model.eval()\n",
    "    conf_score = torch.zeros([10]).to(device)\n",
    "    count = torch.zeros([10]).to(device)\n",
    "    with torch.no_grad():\n",
    "        for batch_idx, (inputs, targets, ad) in enumerate(dataloader):\n",
    "            inputs, targets, ad = inputs.to(device), targets.to(device), ad.to(device)\n",
    "            outputs = model(inputs)\n",
    "            softmaxes = F.softmax(outputs, dim=1)\n",
    "\n",
    "            for i in range (len(targets)):\n",
    "                confidence = softmaxes[i][targets[i]]\n",
    "                conf_score[targets[i]] += confidence\n",
    "                count[targets[i]] += 1\n",
    "            conf_avg = conf_score/count\n",
    "    return conf_avg\n",
    "\n",
    "conf_score_train = get_conf_freq(model, train_loader)\n",
    "conf_score_train"
   ]
  },
  {
   "cell_type": "markdown",
   "id": "fa402f4d",
   "metadata": {},
   "source": [
    "Conf_score from Testset"
   ]
  },
  {
   "cell_type": "code",
   "execution_count": 9,
   "id": "068c2a5a",
   "metadata": {},
   "outputs": [
    {
     "data": {
      "text/plain": [
       "tensor([0.8188, 0.8767, 0.7144, 0.6143, 0.7532, 0.6945, 0.8224, 0.8255, 0.8705,\n",
       "        0.8474], device='cuda:0')"
      ]
     },
     "execution_count": 9,
     "metadata": {},
     "output_type": "execute_result"
    }
   ],
   "source": [
    "model.load_state_dict(torch.load('best_model_cifar10h1.pth.tar'))\n",
    "def get_conf_freq (model, dataloader):\n",
    "    model.eval()\n",
    "    conf_score = torch.zeros([10]).to(device)\n",
    "    count = torch.zeros([10]).to(device)\n",
    "    with torch.no_grad():\n",
    "        for batch_idx, (inputs, targets) in enumerate(dataloader):\n",
    "            inputs, targets = inputs.to(device), targets.to(device)\n",
    "            outputs = model(inputs)\n",
    "            softmaxes = F.softmax(outputs, dim=1)\n",
    "\n",
    "            for i in range (len(targets)):\n",
    "                confidence = softmaxes[i][targets[i]]\n",
    "                conf_score[targets[i]] += confidence\n",
    "                count[targets[i]] += 1\n",
    "            conf_avg = conf_score/count\n",
    "    return conf_avg\n",
    "\n",
    "conf_score_test = get_conf_freq(model, test_loader)\n",
    "conf_score_test"
   ]
  },
  {
   "cell_type": "markdown",
   "id": "155a2a0a",
   "metadata": {},
   "source": [
    "ECE"
   ]
  },
  {
   "cell_type": "code",
   "execution_count": 10,
   "id": "26269aab",
   "metadata": {},
   "outputs": [
    {
     "name": "stdout",
     "output_type": "stream",
     "text": [
      "Files already downloaded and verified\n",
      "Files already downloaded and verified\n",
      "train samples: 10000 test samples: 50000\n"
     ]
    },
    {
     "data": {
      "text/plain": [
       "<All keys matched successfully>"
      ]
     },
     "execution_count": 10,
     "metadata": {},
     "output_type": "execute_result"
    }
   ],
   "source": [
    "\n",
    "seed_everything()\n",
    "mean_cifar10, std_cifar10 = (0.5071, 0.4866, 0.4409), (0.2009, 0.1984, 0.2023)\n",
    "transform_train = transforms.Compose([transforms.RandomCrop(32, padding=4),\n",
    "            transforms.RandomHorizontalFlip(), transforms.ToTensor(),\n",
    "            transforms.Normalize(mean_cifar10, std_cifar10), ])\n",
    "transform_test = transforms.Compose([transforms.ToTensor(),\n",
    "    transforms.Normalize(mean_cifar10, std_cifar10),])\n",
    "\n",
    "train_dataset = CIFAR10H(root='./data', train=False, download=True, transform=transform_train)\n",
    "test_dataset = torchvision.datasets.CIFAR10(root='./data', train=True, download=True, transform=transform_test)\n",
    "print('train samples:',len(train_dataset), 'test samples:',len(test_dataset))\n",
    "train_loader = torch.utils.data.DataLoader(train_dataset, batch_size=args.batch_size, shuffle=True, num_workers=2)\n",
    "test_loader = torch.utils.data.DataLoader(test_dataset, batch_size=args.test_batch_size, shuffle=False, num_workers=2)\n",
    "\n",
    "model = models.resnet34(pretrained=True).to(device)\n",
    "model.fc = nn.Linear(model.fc.in_features, args.num_classes)\n",
    "model = model.to(device)\n",
    "\n",
    "optimizer = optim.SGD(model.parameters(), lr=args.lr, momentum=0.9, nesterov=False, weight_decay=0.0001)\n",
    "criterion = nn.CrossEntropyLoss()\n",
    "model.load_state_dict(torch.load('best_model_cifar10h1.pth.tar'))"
   ]
  },
  {
   "cell_type": "code",
   "execution_count": 11,
   "id": "8581196b",
   "metadata": {},
   "outputs": [
    {
     "data": {
      "text/plain": [
       "0.79486"
      ]
     },
     "execution_count": 11,
     "metadata": {},
     "output_type": "execute_result"
    }
   ],
   "source": [
    "accuracy = test(model, test_loader)\n",
    "accuracy"
   ]
  },
  {
   "cell_type": "code",
   "execution_count": 12,
   "id": "46a7ee63",
   "metadata": {},
   "outputs": [],
   "source": [
    "class _ECELoss(nn.Module):\n",
    "    def __init__(self, n_bins=15):\n",
    "        \"\"\"\n",
    "        n_bins (int): number of confidence interval bins\n",
    "        \"\"\"\n",
    "        super(_ECELoss, self).__init__()\n",
    "        bin_boundaries = torch.linspace(0, 1, n_bins + 1)\n",
    "        self.bin_lowers = bin_boundaries[:-1]\n",
    "        self.bin_uppers = bin_boundaries[1:]\n",
    "\n",
    "    def forward(self, logits, labels):\n",
    "        softmaxes = F.softmax(logits, dim=1)\n",
    "        confidences, predictions = torch.max(softmaxes, 1)\n",
    "        accuracies = predictions.eq(labels)\n",
    "        ece = torch.zeros(1, device=logits.device)\n",
    "        for bin_lower, bin_upper in zip(self.bin_lowers, self.bin_uppers):\n",
    "            # Calculated |confidence - accuracy| in each bin\n",
    "            in_bin = confidences.gt(bin_lower.item()) * confidences.le(bin_upper.item())\n",
    "            prop_in_bin = in_bin.float().mean()\n",
    "            if prop_in_bin.item() > 0:\n",
    "                accuracy_in_bin = accuracies[in_bin].float().mean()\n",
    "                avg_confidence_in_bin = confidences[in_bin].mean()\n",
    "                ece += torch.abs(avg_confidence_in_bin - accuracy_in_bin) * prop_in_bin\n",
    "\n",
    "        return ece\n",
    "    \n",
    "def evaluation(model, testloader):\n",
    "    model.eval()\n",
    "    correct = 0\n",
    "    total = 0\n",
    "    logits_list, labels_list = [], [] \n",
    "    with torch.no_grad():\n",
    "        for batch_idx, (inputs, targets) in enumerate(testloader):\n",
    "            inputs, targets = inputs.to(device), targets.to(device)\n",
    "            outputs = model(inputs)\n",
    "            \n",
    "            _, predicted = outputs.max(1)\n",
    "            total += targets.size(0)\n",
    "            correct += predicted.eq(targets).sum().item()\n",
    "            logits_list.append(outputs)\n",
    "            labels_list.append(targets)\n",
    "            \n",
    "        logits_all = torch.cat(logits_list).cuda()\n",
    "        labels_all = torch.cat(labels_list).cuda()\n",
    "    return correct / total, logits_all, labels_all\n",
    "\n",
    "ece_criterion = _ECELoss().to(device)\n",
    "accuracy,logits_all,labels_all = evaluation(model, test_loader)\n",
    "logits_all = logits_all.view(-1,args.num_classes)\n",
    "labels_all = labels_all.view(-1)\n",
    "temperature_ece = ece_criterion(logits_all, labels_all).item()"
   ]
  },
  {
   "cell_type": "code",
   "execution_count": 13,
   "id": "0c6a8363",
   "metadata": {},
   "outputs": [
    {
     "data": {
      "text/plain": [
       "0.13792674243450165"
      ]
     },
     "execution_count": 13,
     "metadata": {},
     "output_type": "execute_result"
    }
   ],
   "source": [
    "temperature_ece"
   ]
  },
  {
   "cell_type": "markdown",
   "id": "8fead5c8",
   "metadata": {},
   "source": [
    "Reliability Diagram"
   ]
  },
  {
   "cell_type": "code",
   "execution_count": 14,
   "id": "69f0043d",
   "metadata": {},
   "outputs": [
    {
     "data": {
      "image/png": "[encoded data removed]",
      "text/plain": [
       "<Figure size 432x288 with 1 Axes>"
      ]
     },
     "metadata": {
      "needs_background": "light"
     },
     "output_type": "display_data"
    }
   ],
   "source": [
    "import matplotlib.pyplot as plt\n",
    "%matplotlib inline\n",
    "\n",
    "def ece_eval(preds, targets, n_bins=15, bg_cls = -1):\n",
    "    bin_boundaries = np.linspace(0, 1, n_bins + 1)\n",
    "    bin_lowers = bin_boundaries[:-1]\n",
    "    bin_uppers = bin_boundaries[1:]\n",
    "    confidences, predictions = np.max(preds,1), np.argmax(preds,1)\n",
    "    confidences, predictions = confidences[targets>bg_cls], predictions[targets>bg_cls]\n",
    "    accuracies = (predictions == targets[targets>bg_cls]) \n",
    "    Bm, acc, conf = np.zeros(n_bins), np.zeros(n_bins), np.zeros(n_bins)\n",
    "    ece = 0.0\n",
    "    bin_idx = 0\n",
    "    for bin_lower, bin_upper in zip(bin_lowers, bin_uppers):\n",
    "        in_bin = np.logical_and(confidences > bin_lower, confidences <= bin_upper)\n",
    "        #in_bin = in_bin[targets>backgound_class]\n",
    "        bin_size = np.sum(in_bin)\n",
    "        \n",
    "        Bm[bin_idx] = bin_size\n",
    "        if bin_size > 0:  \n",
    "            accuracy_in_bin = np.sum(accuracies[in_bin])\n",
    "            acc[bin_idx] = accuracy_in_bin / Bm[bin_idx]\n",
    "            confidence_in_bin = np.sum(confidences[in_bin])\n",
    "            conf[bin_idx] = confidence_in_bin / Bm[bin_idx]\n",
    "        bin_idx += 1\n",
    "        \n",
    "    ece_all = Bm * np.abs((acc - conf))/ Bm.sum()\n",
    "    ece = ece_all.sum() \n",
    "    return ece, acc, conf, Bm\n",
    "\n",
    "\n",
    "def get_reliability_diagram(conf_avg, acc_avg, legend=None, leg_idx=0, n_bins=10, fig=2):\n",
    "    plt.figure(fig)\n",
    "    plt.plot([0, 1], [0, 1], linestyle='--',label = 'Perfect Calibration')\n",
    "    plt.xlabel('Confidence')\n",
    "    plt.ylabel('Accuracy')\n",
    "    plt.xticks(np.arange(0, 1.1, 1/n_bins))\n",
    "    plt.title('{}'.format(fig))\n",
    "    plt.plot(conf_avg[acc_avg>0],acc_avg[acc_avg>0], marker='.', label = legend)\n",
    "    plt.legend()\n",
    "    plt.savefig('ece_reliability_diag_{}.png'.format(fig),dpi=300)\n",
    "    \n",
    "logits_all =F.softmax(logits_all, dim=1).detach().cpu().numpy()\n",
    "labels_all =labels_all.detach().cpu().numpy()\n",
    "ece, acc, conf, Bm = ece_eval(logits_all, labels_all)\n",
    "get_reliability_diagram(conf, acc, legend='Reliability Diagram', fig='reliability_diagram')"
   ]
  },
  {
   "cell_type": "code",
   "execution_count": 15,
   "id": "b0330aca",
   "metadata": {},
   "outputs": [
    {
     "name": "stdout",
     "output_type": "stream",
     "text": [
      "[0.         0.         0.         0.24621131 0.31114885 0.37423835\n",
      " 0.43569246 0.50535602 0.56613015 0.63271024 0.70037372 0.76780329\n",
      " 0.83450327 0.90308572 0.99390323] <class 'numpy.ndarray'>\n",
      "[0.         0.         0.         0.16666667 0.23913043 0.33333333\n",
      " 0.33423913 0.381798   0.39966273 0.40521873 0.46111548 0.47612903\n",
      " 0.51616267 0.56942949 0.89136932] <class 'numpy.ndarray'>\n"
     ]
    }
   ],
   "source": [
    "print(conf, type(conf))\n",
    "print(acc,type(acc))"
   ]
  },
  {
   "cell_type": "code",
   "execution_count": null,
   "id": "9fdc7904",
   "metadata": {},
   "outputs": [],
   "source": []
  }
 ],
 "metadata": {
  "kernelspec": {
   "display_name": "Python 3",
   "language": "python",
   "name": "python3"
  },
  "language_info": {
   "codemirror_mode": {
    "name": "ipython",
    "version": 3
   },
   "file_extension": ".py",
   "mimetype": "text/x-python",
   "name": "python",
   "nbconvert_exporter": "python",
   "pygments_lexer": "ipython3",
   "version": "3.6.9"
  }
 },
 "nbformat": 4,
 "nbformat_minor": 5
}
